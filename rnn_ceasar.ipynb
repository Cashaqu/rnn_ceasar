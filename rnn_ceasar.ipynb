{
 "cells": [
  {
   "cell_type": "markdown",
   "id": "6629586e-e08c-47b8-95ba-37a232105094",
   "metadata": {},
   "source": [
    "### Libraries "
   ]
  },
  {
   "cell_type": "code",
   "execution_count": 1,
   "id": "d4e6ca6e",
   "metadata": {},
   "outputs": [],
   "source": [
    "import torch\n",
    "import pandas as pd\n",
    "import time"
   ]
  },
  {
   "cell_type": "markdown",
   "id": "c4661c27-6089-4789-877c-40c34855d48f",
   "metadata": {},
   "source": [
    "### Ceasar Cipher Implementation"
   ]
  },
  {
   "cell_type": "code",
   "execution_count": 2,
   "id": "3784533e",
   "metadata": {},
   "outputs": [],
   "source": [
    "sample = 'Jim quickly realized that the beautiful gowns are expensive'\n",
    "shift = 17\n",
    "alphabet = 'ABCDEFGHIJKLMNOPQRSTVUWXYZabcdefghijklmnopqrstvuwxyz 0123456789,.!?:;’()-_—'\n",
    "#0123456789 -!?.,:;'"
   ]
  },
  {
   "cell_type": "code",
   "execution_count": 3,
   "id": "e7d30c5e-eede-4230-8dca-2922dcb2982c",
   "metadata": {},
   "outputs": [
    {
     "name": "stdout",
     "output_type": "stream",
     "text": [
      "Original text:\n",
      " Jim quickly realized that the beautiful gowns are expensive\n",
      "Encrypted text:\n",
      " az2’6.zt01:’7ur1z;uv’9yr9’9yu’sur.9zw.1’x4!38’r7u’u?5u38z,u\n",
      "Decrypted text:\n",
      " Jim quickly realized that the beautiful gowns are expensive\n"
     ]
    }
   ],
   "source": [
    "def ceasar_cipher(text, shift, alphabet, decryption=False):\n",
    "    output = ''\n",
    "    if decryption == True:\n",
    "        shift = -shift\n",
    "    for x in range(len(text)):\n",
    "        if text[x] in alphabet:\n",
    "            output += alphabet[(alphabet.index(text[x]) + shift) % len(alphabet)]\n",
    "        else:\n",
    "            output += text[x] \n",
    "    return output\n",
    "\n",
    "print('Original text:\\n', sample)\n",
    "enc_data = ceasar_cipher(sample, shift, alphabet)\n",
    "print('Encrypted text:\\n', enc_data)\n",
    "dec_data = ceasar_cipher(enc_data, shift, alphabet, decryption=True)\n",
    "print('Decrypted text:\\n', dec_data)"
   ]
  },
  {
   "cell_type": "markdown",
   "id": "5f3c4015-57ac-4d96-ba9d-ecde856bdfd4",
   "metadata": {},
   "source": [
    "### Text for training"
   ]
  },
  {
   "cell_type": "code",
   "execution_count": 4,
   "id": "164a6ba5-50dc-42d3-996c-da77384c005b",
   "metadata": {},
   "outputs": [
    {
     "data": {
      "text/html": [
       "<div>\n",
       "<style scoped>\n",
       "    .dataframe tbody tr th:only-of-type {\n",
       "        vertical-align: middle;\n",
       "    }\n",
       "\n",
       "    .dataframe tbody tr th {\n",
       "        vertical-align: top;\n",
       "    }\n",
       "\n",
       "    .dataframe thead th {\n",
       "        text-align: right;\n",
       "    }\n",
       "</style>\n",
       "<table border=\"1\" class=\"dataframe\">\n",
       "  <thead>\n",
       "    <tr style=\"text-align: right;\">\n",
       "      <th></th>\n",
       "      <th>original_sentence</th>\n",
       "    </tr>\n",
       "  </thead>\n",
       "  <tbody>\n",
       "    <tr>\n",
       "      <th>0</th>\n",
       "      <td>Caesar salad, a simple salad made elegant, in ...</td>\n",
       "    </tr>\n",
       "    <tr>\n",
       "      <th>1</th>\n",
       "      <td>In 1924, during the Prohibition era (1920–33),...</td>\n",
       "    </tr>\n",
       "    <tr>\n",
       "      <th>2</th>\n",
       "      <td>(1896–1956) moved his restaurant from San Dieg...</td>\n",
       "    </tr>\n",
       "    <tr>\n",
       "      <th>3</th>\n",
       "      <td>so that he could consume and serve alcohol wit...</td>\n",
       "    </tr>\n",
       "    <tr>\n",
       "      <th>4</th>\n",
       "      <td>His restaurant, known as Caesar’s, lay just ac...</td>\n",
       "    </tr>\n",
       "  </tbody>\n",
       "</table>\n",
       "</div>"
      ],
      "text/plain": [
       "                                   original_sentence\n",
       "0  Caesar salad, a simple salad made elegant, in ...\n",
       "1  In 1924, during the Prohibition era (1920–33),...\n",
       "2  (1896–1956) moved his restaurant from San Dieg...\n",
       "3  so that he could consume and serve alcohol wit...\n",
       "4  His restaurant, known as Caesar’s, lay just ac..."
      ]
     },
     "execution_count": 4,
     "metadata": {},
     "output_type": "execute_result"
    }
   ],
   "source": [
    "df = pd.read_csv('./Ceasar Salad.txt', delimiter=\"\\t\", header=None)\n",
    "df.columns = ['original_sentence']\n",
    "df.head()"
   ]
  },
  {
   "cell_type": "code",
   "execution_count": 5,
   "id": "aa12ac34-7f55-4718-9430-7d70f73908c1",
   "metadata": {},
   "outputs": [
    {
     "data": {
      "text/html": [
       "<div>\n",
       "<style scoped>\n",
       "    .dataframe tbody tr th:only-of-type {\n",
       "        vertical-align: middle;\n",
       "    }\n",
       "\n",
       "    .dataframe tbody tr th {\n",
       "        vertical-align: top;\n",
       "    }\n",
       "\n",
       "    .dataframe thead th {\n",
       "        text-align: right;\n",
       "    }\n",
       "</style>\n",
       "<table border=\"1\" class=\"dataframe\">\n",
       "  <thead>\n",
       "    <tr style=\"text-align: right;\">\n",
       "      <th></th>\n",
       "      <th>original_sentence</th>\n",
       "      <th>encrypted_sentence</th>\n",
       "    </tr>\n",
       "  </thead>\n",
       "  <tbody>\n",
       "    <tr>\n",
       "      <th>0</th>\n",
       "      <td>Caesar salad, a simple salad made elegant, in ...</td>\n",
       "      <td>Tru8r7’8r1rvF’r’8z251u’8r1rv’2rvu’u1uxr39F’z3’...</td>\n",
       "    </tr>\n",
       "    <tr>\n",
       "      <th>1</th>\n",
       "      <td>In 1924, during the Prohibition era (1920–33),...</td>\n",
       "      <td>Z3’)E-—F’v.7z3x’9yu’g74yzsz9z43’u7r’M)E-(–__NF...</td>\n",
       "    </tr>\n",
       "    <tr>\n",
       "      <th>2</th>\n",
       "      <td>(1896–1956) moved his restaurant from San Dieg...</td>\n",
       "      <td>M)DEB–)EABN’24,uv’yz8’7u89r.7r39’w742’jr3’Vzux...</td>\n",
       "    </tr>\n",
       "    <tr>\n",
       "      <th>3</th>\n",
       "      <td>so that he could consume and serve alcohol wit...</td>\n",
       "      <td>84’9yr9’yu’t4.1v’t438.2u’r3v’8u7,u’r1t4y41’!z9...</td>\n",
       "    </tr>\n",
       "    <tr>\n",
       "      <th>4</th>\n",
       "      <td>His restaurant, known as Caesar’s, lay just ac...</td>\n",
       "      <td>Yz8’7u89r.7r39F’034!3’r8’Tru8r7L8F’1r:’ .89’rt...</td>\n",
       "    </tr>\n",
       "  </tbody>\n",
       "</table>\n",
       "</div>"
      ],
      "text/plain": [
       "                                   original_sentence  \\\n",
       "0  Caesar salad, a simple salad made elegant, in ...   \n",
       "1  In 1924, during the Prohibition era (1920–33),...   \n",
       "2  (1896–1956) moved his restaurant from San Dieg...   \n",
       "3  so that he could consume and serve alcohol wit...   \n",
       "4  His restaurant, known as Caesar’s, lay just ac...   \n",
       "\n",
       "                                  encrypted_sentence  \n",
       "0  Tru8r7’8r1rvF’r’8z251u’8r1rv’2rvu’u1uxr39F’z3’...  \n",
       "1  Z3’)E-—F’v.7z3x’9yu’g74yzsz9z43’u7r’M)E-(–__NF...  \n",
       "2  M)DEB–)EABN’24,uv’yz8’7u89r.7r39’w742’jr3’Vzux...  \n",
       "3  84’9yr9’yu’t4.1v’t438.2u’r3v’8u7,u’r1t4y41’!z9...  \n",
       "4  Yz8’7u89r.7r39F’034!3’r8’Tru8r7L8F’1r:’ .89’rt...  "
      ]
     },
     "execution_count": 5,
     "metadata": {},
     "output_type": "execute_result"
    }
   ],
   "source": [
    "df['encrypted_sentence'] = df['original_sentence'].apply(lambda x: ceasar_cipher(x, shift, alphabet))\n",
    "df.head()"
   ]
  },
  {
   "cell_type": "markdown",
   "id": "cfb16e57-8234-4764-9d82-5e24e63462a3",
   "metadata": {},
   "source": [
    "### Preparation for training"
   ]
  },
  {
   "cell_type": "code",
   "execution_count": 6,
   "id": "86b1197f-04ae-4304-b401-7a6f28ec5068",
   "metadata": {},
   "outputs": [
    {
     "name": "stdout",
     "output_type": "stream",
     "text": [
      "['C', 'a', 'e', 's', 'a', 'r', ' ', 's', 'a', 'l', 'a', 'd', ',', ' ', 'a']\n",
      "['T', 'r', 'u', '8', 'r', '7', '’', '8', 'r', '1', 'r', 'v', 'F', '’', 'r']\n"
     ]
    }
   ],
   "source": [
    "sentence_corpus_orig = [[char for char in sentence] for sentence in df['original_sentence'].tolist()]\n",
    "sentence_corpus_enc = [[char for char in sentence] for sentence in df['encrypted_sentence'].tolist()]\n",
    "#if type(sentence) is str]\n",
    "print(sentence_corpus_orig[0][:15])\n",
    "print(sentence_corpus_enc[0][:15])"
   ]
  },
  {
   "cell_type": "code",
   "execution_count": 7,
   "id": "e43e8b85-e13b-4262-88d6-32bbc858414b",
   "metadata": {},
   "outputs": [],
   "source": [
    "#dict_char[None] = 0\n",
    "dict_char = {char: i for i, char in enumerate(['None'] + [char for char in alphabet])}"
   ]
  },
  {
   "cell_type": "code",
   "execution_count": 8,
   "id": "3b079e9f-f0f5-489c-9b84-7e977ad47445",
   "metadata": {},
   "outputs": [],
   "source": [
    "def to_torch(text, sen_len, dictionary):\n",
    "    X = torch.zeros((len(text), sen_len), dtype=int)\n",
    "    for i in range(len(text)):\n",
    "        for j, k in enumerate(text[i]):\n",
    "            if j >= sen_len:\n",
    "                break\n",
    "            X[i,j] = dict_char.get(k, dict_char['None'])\n",
    "    return X"
   ]
  },
  {
   "cell_type": "code",
   "execution_count": 9,
   "id": "2f19d436-edb9-4dd3-8c93-b94922def1ff",
   "metadata": {},
   "outputs": [
    {
     "data": {
      "text/plain": [
       "torch.Size([50, 100])"
      ]
     },
     "execution_count": 9,
     "metadata": {},
     "output_type": "execute_result"
    }
   ],
   "source": [
    "X_enc = to_torch(sentence_corpus_enc, 100, dict_char)\n",
    "X_enc.size()"
   ]
  },
  {
   "cell_type": "code",
   "execution_count": 10,
   "id": "55ab5dad-816e-43a0-a7c2-33daa64e7dd8",
   "metadata": {},
   "outputs": [],
   "source": [
    "X_orig = to_torch(sentence_corpus_orig, 100, dict_char)\n",
    "#X_orig"
   ]
  },
  {
   "cell_type": "code",
   "execution_count": 11,
   "id": "b9745adb-d1fc-4ea0-833b-ee86d2448b25",
   "metadata": {},
   "outputs": [],
   "source": [
    "def to_embeddings(X, dictionary):\n",
    "    embeddings = torch.nn.Embedding(len(dict_char), 28)\n",
    "    return embeddings(X)"
   ]
  },
  {
   "cell_type": "code",
   "execution_count": 12,
   "id": "cf49b627-3bd4-4859-9dc8-19a08d256cc0",
   "metadata": {},
   "outputs": [],
   "source": [
    "X_orig_emb = to_embeddings(X_orig, dict_char)\n",
    "#X_orig_emb"
   ]
  },
  {
   "cell_type": "code",
   "execution_count": 13,
   "id": "01406eac-ee0b-4262-94cd-5ebc132bcdb3",
   "metadata": {},
   "outputs": [],
   "source": [
    "X_enc_emb = to_embeddings(X_enc, dict_char)\n",
    "#X_enc_emb"
   ]
  },
  {
   "cell_type": "markdown",
   "id": "d75a0872-c1b2-4ef4-be20-6fd598c6a876",
   "metadata": {},
   "source": [
    "### RNN "
   ]
  },
  {
   "cell_type": "code",
   "execution_count": 14,
   "id": "d49948b9",
   "metadata": {},
   "outputs": [],
   "source": [
    "class RNN(torch.nn.Module):\n",
    "    def __init__(self):\n",
    "        super(RNN, self).__init__()\n",
    "        self.embed = torch.nn.Embedding(len(dict_char), len(dict_char))\n",
    "        self.rnn = torch.nn.RNN(len(dict_char), 128, batch_first=True)\n",
    "        self.linear = torch.nn.Linear(128, len(dict_char))\n",
    "        \n",
    "    def forward(self, sentences, state=None):\n",
    "        embed = self.embed(sentences)\n",
    "        o, a = self.rnn(embed)\n",
    "        out = self.linear(o)\n",
    "        return out"
   ]
  },
  {
   "cell_type": "code",
   "execution_count": 15,
   "id": "6380b665-5517-4ec6-90e0-fd373896ff74",
   "metadata": {},
   "outputs": [
    {
     "data": {
      "text/plain": [
       "76"
      ]
     },
     "execution_count": 15,
     "metadata": {},
     "output_type": "execute_result"
    }
   ],
   "source": [
    "len(dict_char)"
   ]
  },
  {
   "cell_type": "code",
   "execution_count": 16,
   "id": "606325a0-792f-4977-9ca6-b98522cfd89e",
   "metadata": {},
   "outputs": [],
   "source": [
    "model = RNN()\n",
    "criterion = torch.nn.CrossEntropyLoss()\n",
    "optimizer = torch.optim.SGD(model.parameters(), lr=.1)"
   ]
  },
  {
   "cell_type": "code",
   "execution_count": 17,
   "id": "59af6b59-0c8d-46b4-9a6f-ae65af44942d",
   "metadata": {},
   "outputs": [
    {
     "data": {
      "text/plain": [
       "torch.Size([5000])"
      ]
     },
     "execution_count": 17,
     "metadata": {},
     "output_type": "execute_result"
    }
   ],
   "source": [
    "X_orig.flatten().size()"
   ]
  },
  {
   "cell_type": "code",
   "execution_count": 18,
   "id": "1905e5ae-ae46-4f9e-af00-0ecfe4e98252",
   "metadata": {},
   "outputs": [
    {
     "data": {
      "text/plain": [
       "tensor([20, 44, 48, 62, 44, 61, 70, 62, 44, 55, 44, 47,  6, 70, 44, 70, 62, 52,\n",
       "        56, 59, 55, 48, 70, 62, 44, 55, 44, 47, 70, 56, 44, 47, 48, 70, 48, 55,\n",
       "        48, 50, 44, 57, 63,  6, 70, 52, 57, 70, 52, 63, 62, 70, 46, 55, 44, 62,\n",
       "        62, 52, 46, 70, 49, 58, 61, 56,  6, 70, 45, 68, 70, 63, 44, 45, 55, 48,\n",
       "        62, 52, 47, 48, 70, 59, 61, 48, 59, 44, 61, 44, 63, 52, 58, 57,  7,  0,\n",
       "         0,  0,  0,  0,  0,  0,  0,  0,  0,  0])"
      ]
     },
     "execution_count": 18,
     "metadata": {},
     "output_type": "execute_result"
    }
   ],
   "source": [
    "X_enc[0]"
   ]
  },
  {
   "cell_type": "code",
   "execution_count": 19,
   "id": "9b4c9187-7136-47e9-a073-f23f33137221",
   "metadata": {},
   "outputs": [
    {
     "name": "stdout",
     "output_type": "stream",
     "text": [
      "Epoch 0. Time: 2.862, Train loss: 1.421\n",
      "Epoch 1. Time: 2.022, Train loss: 0.409\n",
      "Epoch 2. Time: 2.029, Train loss: 0.259\n",
      "Epoch 3. Time: 2.111, Train loss: 0.194\n",
      "Epoch 4. Time: 2.052, Train loss: 0.159\n",
      "Epoch 5. Time: 2.099, Train loss: 0.136\n",
      "Epoch 6. Time: 2.060, Train loss: 0.119\n",
      "Epoch 7. Time: 2.020, Train loss: 0.106\n",
      "Epoch 8. Time: 1.810, Train loss: 0.095\n",
      "Epoch 9. Time: 1.626, Train loss: 0.086\n",
      "Epoch 10. Time: 1.645, Train loss: 0.079\n",
      "Epoch 11. Time: 1.876, Train loss: 0.072\n",
      "Epoch 12. Time: 1.625, Train loss: 0.066\n",
      "Epoch 13. Time: 1.587, Train loss: 0.061\n",
      "Epoch 14. Time: 1.578, Train loss: 0.057\n",
      "Epoch 15. Time: 1.587, Train loss: 0.053\n",
      "Epoch 16. Time: 1.578, Train loss: 0.049\n",
      "Epoch 17. Time: 1.601, Train loss: 0.046\n",
      "Epoch 18. Time: 1.592, Train loss: 0.042\n",
      "Epoch 19. Time: 1.577, Train loss: 0.040\n"
     ]
    }
   ],
   "source": [
    "for ep in range(20):\n",
    "    start = time.time()\n",
    "    train_loss = 0.\n",
    "    train_passed = 0\n",
    "\n",
    "    for i in range(int(len(X_enc))):\n",
    "        X_orig = X_orig.flatten()\n",
    "\n",
    "        optimizer.zero_grad()\n",
    "        answers = model.forward(X_enc)\n",
    "        answers = answers.view(-1, len(dict_char))\n",
    "        loss = criterion(answers, X_orig)\n",
    "        train_loss += loss.item()\n",
    "\n",
    "        loss.backward()\n",
    "        optimizer.step()\n",
    "        train_passed += 1\n",
    "    print(\"Epoch {}. Time: {:.3f}, Train loss: {:.3f}\".format(ep, time.time() - start, train_loss / train_passed))"
   ]
  },
  {
   "cell_type": "code",
   "execution_count": 20,
   "id": "ef29346f-c462-4147-aeca-a6c54db73e09",
   "metadata": {},
   "outputs": [],
   "source": [
    "def prediction(test):\n",
    "    test_enc = [ceasar_cipher(test, 17, alphabet)]\n",
    "    test_tensor = to_torch(test_enc, 100, dict_char)\n",
    "    predict = model(test_tensor)\n",
    "    predict = predict.squeeze(0)\n",
    "    predict_test = ''\n",
    "    for i, j in enumerate(predict):\n",
    "        if j.argmax() != 0:\n",
    "            predict_test += list(dict_char.keys())[list(dict_char.values()).index(j.argmax())]\n",
    "    return print('Predicion:', predict_test)"
   ]
  },
  {
   "cell_type": "code",
   "execution_count": 21,
   "id": "68880dc6-2591-4a0d-bb6b-70f78a01d731",
   "metadata": {},
   "outputs": [
    {
     "name": "stdout",
     "output_type": "stream",
     "text": [
      "Predicion: gaius julius Caesar was a voman general and statesman\n"
     ]
    }
   ],
   "source": [
    "prediction(\"Gaius Julius Caesar was a Roman general and statesman\")"
   ]
  },
  {
   "cell_type": "code",
   "execution_count": null,
   "id": "20a9708a-cb0e-4f3d-9d62-ba70f7d04481",
   "metadata": {},
   "outputs": [],
   "source": []
  }
 ],
 "metadata": {
  "kernelspec": {
   "display_name": "Python 3 (ipykernel)",
   "language": "python",
   "name": "python3"
  },
  "language_info": {
   "codemirror_mode": {
    "name": "ipython",
    "version": 3
   },
   "file_extension": ".py",
   "mimetype": "text/x-python",
   "name": "python",
   "nbconvert_exporter": "python",
   "pygments_lexer": "ipython3",
   "version": "3.10.12"
  }
 },
 "nbformat": 4,
 "nbformat_minor": 5
}
