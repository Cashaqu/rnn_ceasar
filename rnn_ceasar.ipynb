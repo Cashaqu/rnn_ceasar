{
 "cells": [
  {
   "cell_type": "markdown",
   "id": "6629586e-e08c-47b8-95ba-37a232105094",
   "metadata": {},
   "source": [
    "### Libraries "
   ]
  },
  {
   "cell_type": "code",
   "execution_count": 1,
   "id": "d4e6ca6e",
   "metadata": {
    "tags": []
   },
   "outputs": [],
   "source": [
    "import torch\n",
    "device = torch.device(\"cuda\" if torch.cuda.is_available() else \"cpu\")\n",
    "\n",
    "import numpy as np\n",
    "import pandas as pd\n",
    "import time\n",
    "\n",
    "import random\n",
    "import string"
   ]
  },
  {
   "cell_type": "markdown",
   "id": "c4661c27-6089-4789-877c-40c34855d48f",
   "metadata": {},
   "source": [
    "### Ceasar Cipher Implementation"
   ]
  },
  {
   "cell_type": "code",
   "execution_count": 2,
   "id": "3784533e",
   "metadata": {},
   "outputs": [],
   "source": [
    "sample = 'Gaius Julius Caesar was born into a patrician family, the gens Julia on 12 July 100 BC.'\n",
    "shift = 17\n",
    "alphabet = 'ABCDEFGHIJKLMNOPQRSTVUWXYZabcdefghijklmnopqrstvuwxyz 0123456789'"
   ]
  },
  {
   "cell_type": "code",
   "execution_count": 3,
   "id": "e7d30c5e-eede-4230-8dca-2922dcb2982c",
   "metadata": {},
   "outputs": [
    {
     "name": "stdout",
     "output_type": "stream",
     "text": [
      "Original text:\n",
      " Gaius Julius Caesar was born into a patrician family, the gens Julia on 12 July 100 BC.\n",
      "Encrypted text:\n",
      " XrzB8GaB1zB8GTru8r7GCr8Gs473Gz394GrG5r97ztzr3Gwr2z1E,G9yuGxu38GaB1zrG43GIJGaB1EGIHHGST.\n",
      "Decrypted text:\n",
      " Gaius Julius Caesar was born into a patrician family, the gens Julia on 12 July 100 BC.\n"
     ]
    }
   ],
   "source": [
    "#   simple Ceasar Cipher\n",
    "def ceasar_cipher(text, shift, alphabet, decryption=False):\n",
    "    output = ''\n",
    "    if decryption == True:\n",
    "        shift = -shift\n",
    "    for x in range(len(text)):\n",
    "        if text[x] in alphabet:\n",
    "            output += alphabet[(alphabet.index(text[x]) + shift) % len(alphabet)]\n",
    "        else:\n",
    "            output += text[x] \n",
    "    return output\n",
    "\n",
    "print('Original text:\\n', sample)\n",
    "enc_data = ceasar_cipher(sample, shift, alphabet)\n",
    "print('Encrypted text:\\n', enc_data)\n",
    "dec_data = ceasar_cipher(enc_data, shift, alphabet, decryption=True)\n",
    "print('Decrypted text:\\n', dec_data)"
   ]
  },
  {
   "cell_type": "code",
   "execution_count": 4,
   "id": "c6b4db61-cc8b-4d3e-abf0-e4e16672f7b4",
   "metadata": {},
   "outputs": [],
   "source": [
    "#   function for generate train sequences\n",
    "def generate_random_string(length_sen, num):\n",
    "    np_alphabet = np.array(list(alphabet))\n",
    "    np_codes = np.random.choice(np_alphabet, [num, length_sen])\n",
    "    return [''.join(np_codes[i]) for i in range(len(np_codes))]"
   ]
  },
  {
   "cell_type": "code",
   "execution_count": 5,
   "id": "6ec47e0b-0747-46cb-b1e7-2c529d4a1f60",
   "metadata": {},
   "outputs": [
    {
     "data": {
      "text/html": [
       "<div>\n",
       "<style scoped>\n",
       "    .dataframe tbody tr th:only-of-type {\n",
       "        vertical-align: middle;\n",
       "    }\n",
       "\n",
       "    .dataframe tbody tr th {\n",
       "        vertical-align: top;\n",
       "    }\n",
       "\n",
       "    .dataframe thead th {\n",
       "        text-align: right;\n",
       "    }\n",
       "</style>\n",
       "<table border=\"1\" class=\"dataframe\">\n",
       "  <thead>\n",
       "    <tr style=\"text-align: right;\">\n",
       "      <th></th>\n",
       "      <th>original_sentence</th>\n",
       "    </tr>\n",
       "  </thead>\n",
       "  <tbody>\n",
       "    <tr>\n",
       "      <th>0</th>\n",
       "      <td>znAvSD5lug7vKpkc5mgp4DSZ UVdz0mc9FQ079RNINc20g...</td>\n",
       "    </tr>\n",
       "    <tr>\n",
       "      <th>1</th>\n",
       "      <td>Gf9dq6xm8vJsiQL5a8il5sOQK0pA0nYHjqvHoKB4sZWPfG...</td>\n",
       "    </tr>\n",
       "    <tr>\n",
       "      <th>2</th>\n",
       "      <td>hqdKem54iDFW5kdjRtLplt6FK9eBmN80I9TRikumiE eSM...</td>\n",
       "    </tr>\n",
       "    <tr>\n",
       "      <th>3</th>\n",
       "      <td>wbohCWhFlevkIAeWS RMiyabqHOvGsSxPsMe59hv4xUyhQ...</td>\n",
       "    </tr>\n",
       "    <tr>\n",
       "      <th>4</th>\n",
       "      <td>KAk WfuTsV3heh4ekVWw3kIWGTa7M4v3X5xZ54ZRiK1d 2...</td>\n",
       "    </tr>\n",
       "  </tbody>\n",
       "</table>\n",
       "</div>"
      ],
      "text/plain": [
       "                                   original_sentence\n",
       "0  znAvSD5lug7vKpkc5mgp4DSZ UVdz0mc9FQ079RNINc20g...\n",
       "1  Gf9dq6xm8vJsiQL5a8il5sOQK0pA0nYHjqvHoKB4sZWPfG...\n",
       "2  hqdKem54iDFW5kdjRtLplt6FK9eBmN80I9TRikumiE eSM...\n",
       "3  wbohCWhFlevkIAeWS RMiyabqHOvGsSxPsMe59hv4xUyhQ...\n",
       "4  KAk WfuTsV3heh4ekVWw3kIWGTa7M4v3X5xZ54ZRiK1d 2..."
      ]
     },
     "execution_count": 5,
     "metadata": {},
     "output_type": "execute_result"
    }
   ],
   "source": [
    "#    creating dataframe for visibility\n",
    "df = pd.DataFrame(generate_random_string(50, 100))\n",
    "df.columns = ['original_sentence']\n",
    "df.head()"
   ]
  },
  {
   "cell_type": "code",
   "execution_count": 6,
   "id": "aa12ac34-7f55-4718-9430-7d70f73908c1",
   "metadata": {},
   "outputs": [
    {
     "data": {
      "text/html": [
       "<div>\n",
       "<style scoped>\n",
       "    .dataframe tbody tr th:only-of-type {\n",
       "        vertical-align: middle;\n",
       "    }\n",
       "\n",
       "    .dataframe tbody tr th {\n",
       "        vertical-align: top;\n",
       "    }\n",
       "\n",
       "    .dataframe thead th {\n",
       "        text-align: right;\n",
       "    }\n",
       "</style>\n",
       "<table border=\"1\" class=\"dataframe\">\n",
       "  <thead>\n",
       "    <tr style=\"text-align: right;\">\n",
       "      <th></th>\n",
       "      <th>original_sentence</th>\n",
       "      <th>encrypted_sentence</th>\n",
       "    </tr>\n",
       "  </thead>\n",
       "  <tbody>\n",
       "    <tr>\n",
       "      <th>0</th>\n",
       "      <td>znAvSD5lug7vKpkc5mgp4DSZ UVdz0mc9FQ079RNINc20g...</td>\n",
       "      <td>F3RAjVM1BxOAb50tM2x5LVjqGmlvFH2tQWhHOQieZetJHx...</td>\n",
       "    </tr>\n",
       "    <tr>\n",
       "      <th>1</th>\n",
       "      <td>Gf9dq6xm8vJsiQL5a8il5sOQK0pA0nYHjqvHoKB4sZWPfG...</td>\n",
       "      <td>XwQv6ND2PAa8zhcMrPz1M8fhbH5RH3pY 6AY4bSL8qngwX...</td>\n",
       "    </tr>\n",
       "    <tr>\n",
       "      <th>2</th>\n",
       "      <td>hqdKem54iDFW5kdjRtLplt6FK9eBmN80I9TRikumiE eSM...</td>\n",
       "      <td>y6vbu2MLzVWnM0v i9c519NWbQuS2ePHZQkiz0B2zUGujd...</td>\n",
       "    </tr>\n",
       "    <tr>\n",
       "      <th>3</th>\n",
       "      <td>wbohCWhFlevkIAeWS RMiyabqHOvGsSxPsMe59hv4xUyhQ...</td>\n",
       "      <td>Cs4yTnyW1uA0ZRunjGidzErs6YfAX8jDg8duMQyALDmEyh...</td>\n",
       "    </tr>\n",
       "    <tr>\n",
       "      <th>4</th>\n",
       "      <td>KAk WfuTsV3heh4ekVWw3kIWGTa7M4v3X5xZ54ZRiK1d 2...</td>\n",
       "      <td>bR0GnwBk8lKyuyLu0lnCK0ZnXkrOdLAKoMDqMLqizbIvGJ...</td>\n",
       "    </tr>\n",
       "  </tbody>\n",
       "</table>\n",
       "</div>"
      ],
      "text/plain": [
       "                                   original_sentence  \\\n",
       "0  znAvSD5lug7vKpkc5mgp4DSZ UVdz0mc9FQ079RNINc20g...   \n",
       "1  Gf9dq6xm8vJsiQL5a8il5sOQK0pA0nYHjqvHoKB4sZWPfG...   \n",
       "2  hqdKem54iDFW5kdjRtLplt6FK9eBmN80I9TRikumiE eSM...   \n",
       "3  wbohCWhFlevkIAeWS RMiyabqHOvGsSxPsMe59hv4xUyhQ...   \n",
       "4  KAk WfuTsV3heh4ekVWw3kIWGTa7M4v3X5xZ54ZRiK1d 2...   \n",
       "\n",
       "                                  encrypted_sentence  \n",
       "0  F3RAjVM1BxOAb50tM2x5LVjqGmlvFH2tQWhHOQieZetJHx...  \n",
       "1  XwQv6ND2PAa8zhcMrPz1M8fhbH5RH3pY 6AY4bSL8qngwX...  \n",
       "2  y6vbu2MLzVWnM0v i9c519NWbQuS2ePHZQkiz0B2zUGujd...  \n",
       "3  Cs4yTnyW1uA0ZRunjGidzErs6YfAX8jDg8duMQyALDmEyh...  \n",
       "4  bR0GnwBk8lKyuyLu0lnCK0ZnXkrOdLAKoMDqMLqizbIvGJ...  "
      ]
     },
     "execution_count": 6,
     "metadata": {},
     "output_type": "execute_result"
    }
   ],
   "source": [
    "#    adding encrypted sentences to dataframe\n",
    "df['encrypted_sentence'] = df['original_sentence'].apply(lambda x: ceasar_cipher(x, shift, alphabet))\n",
    "df.head()"
   ]
  },
  {
   "cell_type": "markdown",
   "id": "cfb16e57-8234-4764-9d82-5e24e63462a3",
   "metadata": {},
   "source": [
    "### Preparation for training"
   ]
  },
  {
   "cell_type": "code",
   "execution_count": 7,
   "id": "84f54272-655d-46f2-8546-c65980d19315",
   "metadata": {},
   "outputs": [],
   "source": [
    "#    creating dictionary from 'alphabet' and adding 'None'\n",
    "dict_char = {char: i for i, char in enumerate(['None'] + [char for char in alphabet])}"
   ]
  },
  {
   "cell_type": "code",
   "execution_count": 8,
   "id": "86b1197f-04ae-4304-b401-7a6f28ec5068",
   "metadata": {},
   "outputs": [
    {
     "name": "stdout",
     "output_type": "stream",
     "text": [
      "['z', 'n', 'A', 'v', 'S', 'D', '5', 'l', 'u', 'g', '7', 'v', 'K', 'p', 'k']\n",
      "['F', '3', 'R', 'A', 'j', 'V', 'M', '1', 'B', 'x', 'O', 'A', 'b', '5', '0']\n"
     ]
    }
   ],
   "source": [
    "#    creating listes of characters of original and encrypted sequences\n",
    "sentence_corpus_orig = [[char for char in sentence] for sentence in df['original_sentence'].tolist()]\n",
    "sentence_corpus_enc = [[char for char in sentence] for sentence in df['encrypted_sentence'].tolist()]\n",
    "\n",
    "print(sentence_corpus_orig[0][:15])\n",
    "print(sentence_corpus_enc[0][:15])"
   ]
  },
  {
   "cell_type": "code",
   "execution_count": 9,
   "id": "3b079e9f-f0f5-489c-9b84-7e977ad47445",
   "metadata": {},
   "outputs": [],
   "source": [
    "#    function for creating tensors with fixed length \n",
    "def to_torch(text, sen_len, dictionary):\n",
    "    X = torch.zeros((len(text), sen_len), dtype=int)\n",
    "    for i in range(len(text)):\n",
    "        for j, k in enumerate(text[i]):\n",
    "            if j >= sen_len:\n",
    "                break\n",
    "            #    if length of a sequence is less than the fixed length of a tensor, fill with 'None' (aka Padding)\n",
    "            X[i,j] = dict_char.get(k, dict_char['None'])\n",
    "    return X"
   ]
  },
  {
   "cell_type": "code",
   "execution_count": 10,
   "id": "95d0aee8-4c14-4f61-a586-c479aa5f58e8",
   "metadata": {},
   "outputs": [],
   "source": [
    "#   making length of row in tensor\n",
    "len_tensor = 60"
   ]
  },
  {
   "cell_type": "code",
   "execution_count": 11,
   "id": "2f19d436-edb9-4dd3-8c93-b94922def1ff",
   "metadata": {},
   "outputs": [
    {
     "name": "stdout",
     "output_type": "stream",
     "text": [
      "torch.Size([100, 60])\n",
      "tensor([ 6, 57, 18,  1, 36, 21, 13, 55,  2, 50, 15,  1, 28, 59, 54, 46, 13, 56,\n",
      "        50, 59, 12, 21, 36, 43,  7, 39, 38, 47,  6,  8, 56, 46, 17, 23, 34,  8,\n",
      "        15, 17, 35, 31, 26, 31, 46, 10,  8, 50, 36,  7, 28, 25,  0,  0,  0,  0,\n",
      "         0,  0,  0,  0,  0,  0])\n"
     ]
    }
   ],
   "source": [
    "#   encrypted sequences -> tensor\n",
    "X_enc = to_torch(sentence_corpus_enc, len_tensor, dict_char)\n",
    "print(X_enc.size())\n",
    "print(X_enc[0])"
   ]
  },
  {
   "cell_type": "code",
   "execution_count": 12,
   "id": "55ab5dad-816e-43a0-a7c2-33daa64e7dd8",
   "metadata": {},
   "outputs": [
    {
     "name": "stdout",
     "output_type": "stream",
     "text": [
      "torch.Size([100, 60])\n",
      "tensor([52, 40,  1, 47, 19,  4, 59, 38, 48, 33, 61, 47, 11, 42, 37, 29, 59, 39,\n",
      "        33, 42, 58,  4, 19, 26, 53, 22, 21, 30, 52, 54, 39, 29, 63,  6, 17, 54,\n",
      "        61, 63, 18, 14,  9, 14, 29, 56, 54, 33, 19, 53, 11,  8,  0,  0,  0,  0,\n",
      "         0,  0,  0,  0,  0,  0])\n"
     ]
    }
   ],
   "source": [
    "#   original sequences -> tensor\n",
    "X_orig = to_torch(sentence_corpus_orig, len_tensor, dict_char)\n",
    "print(X_orig.size())\n",
    "print(X_orig[0])"
   ]
  },
  {
   "cell_type": "markdown",
   "id": "d75a0872-c1b2-4ef4-be20-6fd598c6a876",
   "metadata": {},
   "source": [
    "### RNN "
   ]
  },
  {
   "cell_type": "code",
   "execution_count": 13,
   "id": "d49948b9",
   "metadata": {},
   "outputs": [],
   "source": [
    "#    define simple RNN with torch\n",
    "class RNN(torch.nn.Module):\n",
    "    def __init__(self):\n",
    "        super(RNN, self).__init__()\n",
    "        self.embed = torch.nn.Embedding(len(dict_char), len(dict_char))\n",
    "        self.rnn = torch.nn.RNN(len(dict_char), 256, batch_first=True)\n",
    "        self.linear = torch.nn.Linear(256, len(dict_char))\n",
    "        \n",
    "    def forward(self, sentences, state=None):\n",
    "        embed = self.embed(sentences)\n",
    "        o, a = self.rnn(embed)\n",
    "        out = self.linear(o)\n",
    "        return out\n",
    "    \n",
    "model = RNN().to(device)"
   ]
  },
  {
   "cell_type": "code",
   "execution_count": 14,
   "id": "606325a0-792f-4977-9ca6-b98522cfd89e",
   "metadata": {},
   "outputs": [],
   "source": [
    "#    define criterion (cross entropy) and optimizer (Adam)\n",
    "criterion = torch.nn.CrossEntropyLoss()\n",
    "optimizer = torch.optim.Adam(model.parameters(), lr=.005)"
   ]
  },
  {
   "cell_type": "markdown",
   "id": "0f73e6d3-7eb1-4395-9501-ee5bf7a852a6",
   "metadata": {},
   "source": [
    "### Training"
   ]
  },
  {
   "cell_type": "code",
   "execution_count": 15,
   "id": "9b4c9187-7136-47e9-a073-f23f33137221",
   "metadata": {
    "tags": []
   },
   "outputs": [
    {
     "name": "stdout",
     "output_type": "stream",
     "text": [
      "Epoch 1. Time: 1.611, Train loss: 0.221189\n",
      "Epoch 2. Time: 1.474, Train loss: 0.000174\n",
      "Epoch 3. Time: 1.468, Train loss: 0.000129\n",
      "Epoch 4. Time: 2.981, Train loss: 0.000101\n",
      "Epoch 5. Time: 3.261, Train loss: 0.000082\n",
      "Epoch 6. Time: 3.159, Train loss: 0.000068\n",
      "Epoch 7. Time: 3.286, Train loss: 0.000057\n",
      "Epoch 8. Time: 3.162, Train loss: 0.000048\n",
      "Epoch 9. Time: 3.220, Train loss: 0.000042\n",
      "Epoch 10. Time: 3.204, Train loss: 0.000036\n"
     ]
    }
   ],
   "source": [
    "#    training\n",
    "for ep in range(10):\n",
    "    start = time.time()\n",
    "    train_loss = 0.\n",
    "    train_passed = 0\n",
    "\n",
    "    for i in range(int(len(X_enc))):\n",
    "        X_orig = X_orig.flatten().to(device)\n",
    "\n",
    "        optimizer.zero_grad()\n",
    "        answers = model.forward(X_enc.to(device))\n",
    "        answers = answers.view(-1, len(dict_char))\n",
    "        loss = criterion(answers, X_orig)\n",
    "        train_loss += loss.item()\n",
    "\n",
    "        loss.backward()\n",
    "        optimizer.step()\n",
    "        train_passed += 1\n",
    "   \n",
    "    print(\"Epoch {}. Time: {:.3f}, Train loss: {:.6f}\".format(ep+1, time.time() - start, train_loss / train_passed))"
   ]
  },
  {
   "cell_type": "code",
   "execution_count": 16,
   "id": "ef29346f-c462-4147-aeca-a6c54db73e09",
   "metadata": {},
   "outputs": [],
   "source": [
    "#   function for predict \n",
    "def prediction(test):\n",
    "    test_enc = [ceasar_cipher(test, shift, alphabet)]\n",
    "    test_tensor = to_torch(test_enc, 100, dict_char)\n",
    "    predict = model(test_tensor.to(device))\n",
    "    predict = predict.squeeze(0)\n",
    "    predict_test = ''\n",
    "    for i, j in enumerate(predict):\n",
    "        if j.argmax() != 0:\n",
    "            predict_test += list(dict_char.keys())[list(dict_char.values()).index(j.argmax())]\n",
    "    return predict_test"
   ]
  },
  {
   "cell_type": "code",
   "execution_count": 17,
   "id": "68880dc6-2591-4a0d-bb6b-70f78a01d731",
   "metadata": {},
   "outputs": [
    {
     "data": {
      "text/plain": [
       "'Gaius Julius Caesar was a Roman general and statesman'"
      ]
     },
     "execution_count": 17,
     "metadata": {},
     "output_type": "execute_result"
    }
   ],
   "source": [
    "prediction(\"Gaius Julius Caesar was a Roman general and statesman\")"
   ]
  },
  {
   "cell_type": "markdown",
   "id": "9a35caa4-e267-4d6e-8f7c-ac2464ada376",
   "metadata": {},
   "source": [
    "### How to measure the quality of the Decryptor?"
   ]
  },
  {
   "cell_type": "markdown",
   "id": "463f4029-eb81-4c51-add4-f9997e861c87",
   "metadata": {},
   "source": [
    "The quality of a decoder is determined by its ability to decode all characters in the input sequence. The distortion of at least one character in the output is unacceptable. Therefore, we will measure the quality of the model as follows: \n",
    "\n",
    "- we feed the encrypted sequence to the model input\n",
    "- run it through the model and compare output with the input\n",
    "- if at least one symbol is decoded incorrectly, we consider that the whole sentence is erroneous"
   ]
  },
  {
   "cell_type": "code",
   "execution_count": 18,
   "id": "dd2fbdfd-2679-4809-b503-74f4134936b6",
   "metadata": {},
   "outputs": [
    {
     "name": "stdout",
     "output_type": "stream",
     "text": [
      "Correct answers: 100.00%\n",
      "14.44 seconds\n"
     ]
    }
   ],
   "source": [
    "model.eval()\n",
    "n_test = 100\n",
    "k=0\n",
    "start = time.time()\n",
    "with torch.no_grad():\n",
    "    for i in range(n_test):\n",
    "        true_sentence = generate_random_string(50, 1)\n",
    "        predict_sentence = prediction(true_sentence[0])\n",
    "        if true_sentence[0] == predict_sentence:\n",
    "            k+=1\n",
    "        \n",
    "print('Correct answers: {:.2f}%'.format(k/n_test * 100))\n",
    "print('{:.2f} seconds'.format(time.time() - start))"
   ]
  }
 ],
 "metadata": {
  "kernelspec": {
   "display_name": "Python 3 (ipykernel)",
   "language": "python",
   "name": "python3"
  },
  "language_info": {
   "codemirror_mode": {
    "name": "ipython",
    "version": 3
   },
   "file_extension": ".py",
   "mimetype": "text/x-python",
   "name": "python",
   "nbconvert_exporter": "python",
   "pygments_lexer": "ipython3",
   "version": "3.10.12"
  }
 },
 "nbformat": 4,
 "nbformat_minor": 5
}
