{
 "cells": [
  {
   "cell_type": "markdown",
   "id": "6629586e-e08c-47b8-95ba-37a232105094",
   "metadata": {},
   "source": [
    "### Libraries "
   ]
  },
  {
   "cell_type": "code",
   "execution_count": 20,
   "id": "d4e6ca6e",
   "metadata": {
    "tags": []
   },
   "outputs": [],
   "source": [
    "import torch\n",
    "device = torch.device(\"cuda\" if torch.cuda.is_available() else \"cpu\")\n",
    "\n",
    "import numpy as np\n",
    "import pandas as pd\n",
    "import time\n",
    "\n",
    "import random\n",
    "import string"
   ]
  },
  {
   "cell_type": "markdown",
   "id": "c4661c27-6089-4789-877c-40c34855d48f",
   "metadata": {},
   "source": [
    "### Ceasar Cipher Implementation"
   ]
  },
  {
   "cell_type": "code",
   "execution_count": 21,
   "id": "3784533e",
   "metadata": {},
   "outputs": [],
   "source": [
    "sample = 'Jim quickly realized that the beautiful gowns - are expensive'\n",
    "shift = 17\n",
    "alphabet = 'ABCDEFGHIJKLMNOPQRSTVUWXYZabcdefghijklmnopqrstvuwxyz 0123456789'"
   ]
  },
  {
   "cell_type": "code",
   "execution_count": 22,
   "id": "e7d30c5e-eede-4230-8dca-2922dcb2982c",
   "metadata": {},
   "outputs": [
    {
     "name": "stdout",
     "output_type": "stream",
     "text": [
      "Original text:\n",
      " Jim quickly realized that the beautiful gowns - are expensive\n",
      "Encrypted text:\n",
      " az2G6Bzt01EG7ur1zFuvG9yr9G9yuGsurB9zwB1Gx4C38G-Gr7uGuD5u38zAu\n",
      "Decrypted text:\n",
      " Jim quickly realized that the beautiful gowns - are expensive\n"
     ]
    }
   ],
   "source": [
    "#   simple Ceasar Cipher\n",
    "def ceasar_cipher(text, shift, alphabet, decryption=False):\n",
    "    output = ''\n",
    "    if decryption == True:\n",
    "        shift = -shift\n",
    "    for x in range(len(text)):\n",
    "        if text[x] in alphabet:\n",
    "            output += alphabet[(alphabet.index(text[x]) + shift) % len(alphabet)]\n",
    "        else:\n",
    "            output += text[x] \n",
    "    return output\n",
    "\n",
    "print('Original text:\\n', sample)\n",
    "enc_data = ceasar_cipher(sample, shift, alphabet)\n",
    "print('Encrypted text:\\n', enc_data)\n",
    "dec_data = ceasar_cipher(enc_data, shift, alphabet, decryption=True)\n",
    "print('Decrypted text:\\n', dec_data)"
   ]
  },
  {
   "cell_type": "code",
   "execution_count": 23,
   "id": "c6b4db61-cc8b-4d3e-abf0-e4e16672f7b4",
   "metadata": {},
   "outputs": [],
   "source": [
    "#   function for generate train sequences\n",
    "def generate_random_string(length_sen, num):\n",
    "    np_alphabet = np.array(list(alphabet))\n",
    "    np_codes = np.random.choice(np_alphabet, [num, length_sen])\n",
    "    return [''.join(np_codes[i]) for i in range(len(np_codes))]"
   ]
  },
  {
   "cell_type": "code",
   "execution_count": 24,
   "id": "6ec47e0b-0747-46cb-b1e7-2c529d4a1f60",
   "metadata": {},
   "outputs": [
    {
     "data": {
      "text/html": [
       "<div>\n",
       "<style scoped>\n",
       "    .dataframe tbody tr th:only-of-type {\n",
       "        vertical-align: middle;\n",
       "    }\n",
       "\n",
       "    .dataframe tbody tr th {\n",
       "        vertical-align: top;\n",
       "    }\n",
       "\n",
       "    .dataframe thead th {\n",
       "        text-align: right;\n",
       "    }\n",
       "</style>\n",
       "<table border=\"1\" class=\"dataframe\">\n",
       "  <thead>\n",
       "    <tr style=\"text-align: right;\">\n",
       "      <th></th>\n",
       "      <th>original_sentence</th>\n",
       "    </tr>\n",
       "  </thead>\n",
       "  <tbody>\n",
       "    <tr>\n",
       "      <th>0</th>\n",
       "      <td>RkWzKCnIiz9bjUxqNDaFTzSw1dE23QbsBj4M8QF7FfQCTU...</td>\n",
       "    </tr>\n",
       "    <tr>\n",
       "      <th>1</th>\n",
       "      <td>r4HoBfbndlwk2TsmINNQplR2d6ZkKkrnljfHiabhgwu89j...</td>\n",
       "    </tr>\n",
       "    <tr>\n",
       "      <th>2</th>\n",
       "      <td>lzG31mDXFvth8oJYCgdcIW2ecr q1noWDb7O kbTtO8Qt9...</td>\n",
       "    </tr>\n",
       "    <tr>\n",
       "      <th>3</th>\n",
       "      <td>LJz7WYv2Tj1Nuz3u5jr33RGcp3lUc7swqbOI3yVlehEkaO...</td>\n",
       "    </tr>\n",
       "    <tr>\n",
       "      <th>4</th>\n",
       "      <td>MrbMYpJeDpllKgDBGJE0D9juMnfU0cpMUzmyFlWEPrSumf...</td>\n",
       "    </tr>\n",
       "  </tbody>\n",
       "</table>\n",
       "</div>"
      ],
      "text/plain": [
       "                                   original_sentence\n",
       "0  RkWzKCnIiz9bjUxqNDaFTzSw1dE23QbsBj4M8QF7FfQCTU...\n",
       "1  r4HoBfbndlwk2TsmINNQplR2d6ZkKkrnljfHiabhgwu89j...\n",
       "2  lzG31mDXFvth8oJYCgdcIW2ecr q1noWDb7O kbTtO8Qt9...\n",
       "3  LJz7WYv2Tj1Nuz3u5jr33RGcp3lUc7swqbOI3yVlehEkaO...\n",
       "4  MrbMYpJeDpllKgDBGJE0D9juMnfU0cpMUzmyFlWEPrSumf..."
      ]
     },
     "execution_count": 24,
     "metadata": {},
     "output_type": "execute_result"
    }
   ],
   "source": [
    "#    creating dataframe for visibility\n",
    "df = pd.DataFrame(generate_random_string(50, 100))\n",
    "df.columns = ['original_sentence']\n",
    "df.head()"
   ]
  },
  {
   "cell_type": "code",
   "execution_count": 25,
   "id": "aa12ac34-7f55-4718-9430-7d70f73908c1",
   "metadata": {},
   "outputs": [
    {
     "data": {
      "text/html": [
       "<div>\n",
       "<style scoped>\n",
       "    .dataframe tbody tr th:only-of-type {\n",
       "        vertical-align: middle;\n",
       "    }\n",
       "\n",
       "    .dataframe tbody tr th {\n",
       "        vertical-align: top;\n",
       "    }\n",
       "\n",
       "    .dataframe thead th {\n",
       "        text-align: right;\n",
       "    }\n",
       "</style>\n",
       "<table border=\"1\" class=\"dataframe\">\n",
       "  <thead>\n",
       "    <tr style=\"text-align: right;\">\n",
       "      <th></th>\n",
       "      <th>original_sentence</th>\n",
       "      <th>encrypted_sentence</th>\n",
       "    </tr>\n",
       "  </thead>\n",
       "  <tbody>\n",
       "    <tr>\n",
       "      <th>0</th>\n",
       "      <td>RkWzKCnIiz9bjUxqNDaFTzSw1dE23QbsBj4M8QF7FfQCTU...</td>\n",
       "      <td>i0nFbT3ZzFQs mD6eVrWkFjCIvUJKhs8S LdPhWOWwhTkm...</td>\n",
       "    </tr>\n",
       "    <tr>\n",
       "      <th>1</th>\n",
       "      <td>r4HoBfbndlwk2TsmINNQplR2d6ZkKkrnljfHiabhgwu89j...</td>\n",
       "      <td>7LY4Sws3v1C0Jk82Zeeh51iJvNq0b0731 wYzrsyxCBPQ ...</td>\n",
       "    </tr>\n",
       "    <tr>\n",
       "      <th>2</th>\n",
       "      <td>lzG31mDXFvth8oJYCgdcIW2ecr q1noWDb7O kbTtO8Qt9...</td>\n",
       "      <td>1FXKI2VoWA9yP4apTxvtZnJut7G6I34nVsOfG0sk9fPh9Q...</td>\n",
       "    </tr>\n",
       "    <tr>\n",
       "      <th>3</th>\n",
       "      <td>LJz7WYv2Tj1Nuz3u5jr33RGcp3lUc7swqbOI3yVlehEkaO...</td>\n",
       "      <td>caFOnpAJk IeBFKBM 7KKiXt5K1mtO8C6sfZKEl1uyU0rf...</td>\n",
       "    </tr>\n",
       "    <tr>\n",
       "      <th>4</th>\n",
       "      <td>MrbMYpJeDpllKgDBGJE0D9juMnfU0cpMUzmyFlWEPrSumf...</td>\n",
       "      <td>d7sdp5auV511bxVSXaUHVQ Bd3wmHt5dmF2EW1nUg7jB2w...</td>\n",
       "    </tr>\n",
       "  </tbody>\n",
       "</table>\n",
       "</div>"
      ],
      "text/plain": [
       "                                   original_sentence  \\\n",
       "0  RkWzKCnIiz9bjUxqNDaFTzSw1dE23QbsBj4M8QF7FfQCTU...   \n",
       "1  r4HoBfbndlwk2TsmINNQplR2d6ZkKkrnljfHiabhgwu89j...   \n",
       "2  lzG31mDXFvth8oJYCgdcIW2ecr q1noWDb7O kbTtO8Qt9...   \n",
       "3  LJz7WYv2Tj1Nuz3u5jr33RGcp3lUc7swqbOI3yVlehEkaO...   \n",
       "4  MrbMYpJeDpllKgDBGJE0D9juMnfU0cpMUzmyFlWEPrSumf...   \n",
       "\n",
       "                                  encrypted_sentence  \n",
       "0  i0nFbT3ZzFQs mD6eVrWkFjCIvUJKhs8S LdPhWOWwhTkm...  \n",
       "1  7LY4Sws3v1C0Jk82Zeeh51iJvNq0b0731 wYzrsyxCBPQ ...  \n",
       "2  1FXKI2VoWA9yP4apTxvtZnJut7G6I34nVsOfG0sk9fPh9Q...  \n",
       "3  caFOnpAJk IeBFKBM 7KKiXt5K1mtO8C6sfZKEl1uyU0rf...  \n",
       "4  d7sdp5auV511bxVSXaUHVQ Bd3wmHt5dmF2EW1nUg7jB2w...  "
      ]
     },
     "execution_count": 25,
     "metadata": {},
     "output_type": "execute_result"
    }
   ],
   "source": [
    "#    adding encrypted sentences to dataframe\n",
    "df['encrypted_sentence'] = df['original_sentence'].apply(lambda x: ceasar_cipher(x, shift, alphabet))\n",
    "df.head()"
   ]
  },
  {
   "cell_type": "markdown",
   "id": "cfb16e57-8234-4764-9d82-5e24e63462a3",
   "metadata": {},
   "source": [
    "### Preparation for training"
   ]
  },
  {
   "cell_type": "code",
   "execution_count": 26,
   "id": "84f54272-655d-46f2-8546-c65980d19315",
   "metadata": {},
   "outputs": [],
   "source": [
    "#    creating dictionary from 'alphabet' and adding 'None'\n",
    "dict_char = {char: i for i, char in enumerate(['None'] + [char for char in alphabet])}"
   ]
  },
  {
   "cell_type": "code",
   "execution_count": 27,
   "id": "86b1197f-04ae-4304-b401-7a6f28ec5068",
   "metadata": {},
   "outputs": [
    {
     "name": "stdout",
     "output_type": "stream",
     "text": [
      "['R', 'k', 'W', 'z', 'K', 'C', 'n', 'I', 'i', 'z', '9', 'b', 'j', 'U', 'x']\n",
      "['i', '0', 'n', 'F', 'b', 'T', '3', 'Z', 'z', 'F', 'Q', 's', ' ', 'm', 'D']\n"
     ]
    }
   ],
   "source": [
    "#    creating listes of characters of original and encrypted sequences\n",
    "sentence_corpus_orig = [[char for char in sentence] for sentence in df['original_sentence'].tolist()]\n",
    "sentence_corpus_enc = [[char for char in sentence] for sentence in df['encrypted_sentence'].tolist()]\n",
    "\n",
    "print(sentence_corpus_orig[0][:15])\n",
    "print(sentence_corpus_enc[0][:15])"
   ]
  },
  {
   "cell_type": "code",
   "execution_count": 28,
   "id": "3b079e9f-f0f5-489c-9b84-7e977ad47445",
   "metadata": {},
   "outputs": [],
   "source": [
    "#    function for creating tensors with fixed length \n",
    "def to_torch(text, sen_len, dictionary):\n",
    "    X = torch.zeros((len(text), sen_len), dtype=int)\n",
    "    for i in range(len(text)):\n",
    "        for j, k in enumerate(text[i]):\n",
    "            if j >= sen_len:\n",
    "                break\n",
    "            #    if length of a sequence is less than the fixed length of a tensor, fill with 'None' (aka Padding)\n",
    "            X[i,j] = dict_char.get(k, dict_char['None'])\n",
    "    return X"
   ]
  },
  {
   "cell_type": "code",
   "execution_count": 31,
   "id": "95d0aee8-4c14-4f61-a586-c479aa5f58e8",
   "metadata": {},
   "outputs": [],
   "source": [
    "#   making length of row in tensor\n",
    "len_tensor = 60"
   ]
  },
  {
   "cell_type": "code",
   "execution_count": 34,
   "id": "2f19d436-edb9-4dd3-8c93-b94922def1ff",
   "metadata": {},
   "outputs": [
    {
     "name": "stdout",
     "output_type": "stream",
     "text": [
      "torch.Size([100, 60])\n",
      "tensor([35, 54, 40,  6, 28, 20, 57, 26, 52,  6, 17, 45, 53, 39,  4, 60, 31, 21,\n",
      "        44, 23, 37,  6, 36,  3,  9, 47, 22, 10, 11, 34, 45, 62, 19, 53, 12, 30,\n",
      "        16, 34, 23, 15, 23, 49, 34, 20, 37, 39, 15, 31, 38, 11,  0,  0,  0,  0,\n",
      "         0,  0,  0,  0,  0,  0])\n"
     ]
    }
   ],
   "source": [
    "#   encrypted sequences -> tensor\n",
    "X_enc = to_torch(sentence_corpus_enc, len_tensor, dict_char)\n",
    "print(X_enc.size())\n",
    "print(X_enc[0])"
   ]
  },
  {
   "cell_type": "code",
   "execution_count": 35,
   "id": "55ab5dad-816e-43a0-a7c2-33daa64e7dd8",
   "metadata": {},
   "outputs": [
    {
     "name": "stdout",
     "output_type": "stream",
     "text": [
      "torch.Size([100, 60])\n",
      "tensor([18, 37, 23, 52, 11,  3, 40,  9, 35, 52, 63, 28, 36, 22, 50, 43, 14,  4,\n",
      "        27,  6, 20, 52, 19, 49, 55, 30,  5, 56, 57, 17, 28, 45,  2, 36, 58, 13,\n",
      "        62, 17,  6, 61,  6, 32, 17,  3, 20, 22, 61, 14, 21, 57,  0,  0,  0,  0,\n",
      "         0,  0,  0,  0,  0,  0])\n"
     ]
    }
   ],
   "source": [
    "#   original sequences -> tensor\n",
    "X_orig = to_torch(sentence_corpus_orig, len_tensor, dict_char)\n",
    "print(X_orig.size())\n",
    "print(X_orig[0])"
   ]
  },
  {
   "cell_type": "markdown",
   "id": "d75a0872-c1b2-4ef4-be20-6fd598c6a876",
   "metadata": {},
   "source": [
    "### RNN "
   ]
  },
  {
   "cell_type": "code",
   "execution_count": 36,
   "id": "d49948b9",
   "metadata": {},
   "outputs": [],
   "source": [
    "#    define simple RNN with torch\n",
    "class RNN(torch.nn.Module):\n",
    "    def __init__(self):\n",
    "        super(RNN, self).__init__()\n",
    "        self.embed = torch.nn.Embedding(len(dict_char), len(dict_char))\n",
    "        self.rnn = torch.nn.RNN(len(dict_char), 256, batch_first=True)\n",
    "        self.linear = torch.nn.Linear(256, len(dict_char))\n",
    "        \n",
    "    def forward(self, sentences, state=None):\n",
    "        embed = self.embed(sentences)\n",
    "        o, a = self.rnn(embed)\n",
    "        out = self.linear(o)\n",
    "        return out\n",
    "    \n",
    "model = RNN().to(device)"
   ]
  },
  {
   "cell_type": "code",
   "execution_count": 37,
   "id": "606325a0-792f-4977-9ca6-b98522cfd89e",
   "metadata": {},
   "outputs": [],
   "source": [
    "#    define criteretion (cross entropy) and optimizer (Adam)\n",
    "criterion = torch.nn.CrossEntropyLoss()\n",
    "optimizer = torch.optim.Adam(model.parameters(), lr=.005)"
   ]
  },
  {
   "cell_type": "code",
   "execution_count": 38,
   "id": "9b4c9187-7136-47e9-a073-f23f33137221",
   "metadata": {},
   "outputs": [
    {
     "name": "stdout",
     "output_type": "stream",
     "text": [
      "Epoch 1. Time: 3.400, Train loss: 0.218415\n",
      "Epoch 2. Time: 3.291, Train loss: 0.000189\n",
      "Epoch 3. Time: 3.186, Train loss: 0.000135\n",
      "Epoch 4. Time: 3.185, Train loss: 0.000104\n",
      "Epoch 5. Time: 3.180, Train loss: 0.000084\n",
      "Epoch 6. Time: 3.184, Train loss: 0.000069\n",
      "Epoch 7. Time: 3.184, Train loss: 0.000058\n",
      "Epoch 8. Time: 3.225, Train loss: 0.000049\n",
      "Epoch 9. Time: 3.183, Train loss: 0.000042\n",
      "Epoch 10. Time: 3.187, Train loss: 0.000036\n"
     ]
    }
   ],
   "source": [
    "#    training\n",
    "for ep in range(10):\n",
    "    start = time.time()\n",
    "    train_loss = 0.\n",
    "    train_passed = 0\n",
    "\n",
    "    for i in range(int(len(X_enc))):\n",
    "        X_orig = X_orig.flatten().to(device)\n",
    "\n",
    "        optimizer.zero_grad()\n",
    "        answers = model.forward(X_enc.to(device))\n",
    "        answers = answers.view(-1, len(dict_char))\n",
    "        loss = criterion(answers, X_orig)\n",
    "        train_loss += loss.item()\n",
    "\n",
    "        loss.backward()\n",
    "        optimizer.step()\n",
    "        train_passed += 1\n",
    "   \n",
    "    print(\"Epoch {}. Time: {:.3f}, Train loss: {:.6f}\".format(ep+1, time.time() - start, train_loss / train_passed))"
   ]
  },
  {
   "cell_type": "code",
   "execution_count": 39,
   "id": "ef29346f-c462-4147-aeca-a6c54db73e09",
   "metadata": {},
   "outputs": [],
   "source": [
    "#   function for predict \n",
    "def prediction(test):\n",
    "    test_enc = [ceasar_cipher(test, shift, alphabet)]\n",
    "    test_tensor = to_torch(test_enc, 100, dict_char)\n",
    "    predict = model(test_tensor.to(device))\n",
    "    predict = predict.squeeze(0)\n",
    "    predict_test = ''\n",
    "    for i, j in enumerate(predict):\n",
    "        if j.argmax() != 0:\n",
    "            predict_test += list(dict_char.keys())[list(dict_char.values()).index(j.argmax())]\n",
    "    return predict_test"
   ]
  },
  {
   "cell_type": "code",
   "execution_count": 41,
   "id": "68880dc6-2591-4a0d-bb6b-70f78a01d731",
   "metadata": {},
   "outputs": [
    {
     "data": {
      "text/plain": [
       "'Gaius Julius Caesar was a Roman general and statesman'"
      ]
     },
     "execution_count": 41,
     "metadata": {},
     "output_type": "execute_result"
    }
   ],
   "source": [
    "prediction(\"Gaius Julius Caesar was a Roman general and statesman\")"
   ]
  },
  {
   "cell_type": "markdown",
   "id": "9a35caa4-e267-4d6e-8f7c-ac2464ada376",
   "metadata": {},
   "source": [
    "### How to measure the quality of the Decryptor?"
   ]
  },
  {
   "cell_type": "markdown",
   "id": "463f4029-eb81-4c51-add4-f9997e861c87",
   "metadata": {},
   "source": [
    "The quality of a decoder is determined by its ability to decode all characters in the input sequence. The distortion of at least one character in the output is unacceptable. Therefore, we will measure the quality of the model as follows: \n",
    "\n",
    "- we feed the encrypted sentence of symbols to the model input\n",
    "- run it through the model and compare it with the original\n",
    "- if at least one symbol is decoded incorrectly, we consider that the whole sentence is erroneous"
   ]
  },
  {
   "cell_type": "code",
   "execution_count": 42,
   "id": "dd2fbdfd-2679-4809-b503-74f4134936b6",
   "metadata": {},
   "outputs": [
    {
     "name": "stdout",
     "output_type": "stream",
     "text": [
      "Correct answers: 100.00%\n",
      "16.21 seconds\n"
     ]
    }
   ],
   "source": [
    "model.eval()\n",
    "n_test = 100\n",
    "k=0\n",
    "start = time.time()\n",
    "with torch.no_grad():\n",
    "    for i in range(n_test):\n",
    "        true_sentence = generate_random_string(50, 1)\n",
    "        predict_sentence = prediction(true_sentence[0])\n",
    "        if true_sentence[0] == predict_sentence:\n",
    "            k+=1\n",
    "        \n",
    "print('Correct answers: {:.2f}%'.format(k/n_test * 100))\n",
    "print('{:.2f} seconds'.format(time.time() - start))"
   ]
  }
 ],
 "metadata": {
  "kernelspec": {
   "display_name": "Python 3 (ipykernel)",
   "language": "python",
   "name": "python3"
  },
  "language_info": {
   "codemirror_mode": {
    "name": "ipython",
    "version": 3
   },
   "file_extension": ".py",
   "mimetype": "text/x-python",
   "name": "python",
   "nbconvert_exporter": "python",
   "pygments_lexer": "ipython3",
   "version": "3.10.12"
  }
 },
 "nbformat": 4,
 "nbformat_minor": 5
}
